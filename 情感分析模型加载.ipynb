{
  "nbformat": 4,
  "nbformat_minor": 0,
  "metadata": {
    "colab": {
      "name": "情感分析模型加载.ipynb",
      "provenance": []
    },
    "kernelspec": {
      "name": "python3",
      "display_name": "Python 3"
    },
    "accelerator": "GPU"
  },
  "cells": [
    {
      "cell_type": "code",
      "metadata": {
        "id": "MG96ggml7J41",
        "colab_type": "code",
        "outputId": "67b69bcc-479b-4811-af0a-5ab2f8832b91",
        "colab": {
          "base_uri": "https://localhost:8080/",
          "height": 121
        }
      },
      "source": [
        "from google.colab import drive\n",
        "drive.mount('/content/drive/')"
      ],
      "execution_count": 0,
      "outputs": [
        {
          "output_type": "stream",
          "text": [
            "Go to this URL in a browser: https://accounts.google.com/o/oauth2/auth?client_id=947318989803-6bn6qk8qdgf4n4g3pfee6491hc0brc4i.apps.googleusercontent.com&redirect_uri=urn%3aietf%3awg%3aoauth%3a2.0%3aoob&response_type=code&scope=email%20https%3a%2f%2fwww.googleapis.com%2fauth%2fdocs.test%20https%3a%2f%2fwww.googleapis.com%2fauth%2fdrive%20https%3a%2f%2fwww.googleapis.com%2fauth%2fdrive.photos.readonly%20https%3a%2f%2fwww.googleapis.com%2fauth%2fpeopleapi.readonly\n",
            "\n",
            "Enter your authorization code:\n",
            "··········\n",
            "Mounted at /content/drive/\n"
          ],
          "name": "stdout"
        }
      ]
    },
    {
      "cell_type": "code",
      "metadata": {
        "id": "ggokhWPW7iEE",
        "colab_type": "code",
        "colab": {}
      },
      "source": [
        "import os"
      ],
      "execution_count": 0,
      "outputs": []
    },
    {
      "cell_type": "code",
      "metadata": {
        "id": "4S6WO2CL8AjH",
        "colab_type": "code",
        "outputId": "074a9a3c-98a3-45ee-a6b3-bbbe9a2f699b",
        "colab": {
          "base_uri": "https://localhost:8080/",
          "height": 34
        }
      },
      "source": [
        "os.listdir('./')"
      ],
      "execution_count": 0,
      "outputs": [
        {
          "output_type": "execute_result",
          "data": {
            "text/plain": [
              "['.config', 'drive', 'sample_data']"
            ]
          },
          "metadata": {
            "tags": []
          },
          "execution_count": 4
        }
      ]
    },
    {
      "cell_type": "code",
      "metadata": {
        "id": "Yl82HlHF8Cwp",
        "colab_type": "code",
        "colab": {}
      },
      "source": [
        "os.chdir('./drive/My Drive/drive/舆情监控之情感分析')"
      ],
      "execution_count": 0,
      "outputs": []
    },
    {
      "cell_type": "code",
      "metadata": {
        "id": "JUxLj99F8MXo",
        "colab_type": "code",
        "outputId": "d0642701-927c-40ce-f740-a18f3a29fc30",
        "colab": {
          "base_uri": "https://localhost:8080/",
          "height": 269
        }
      },
      "source": [
        "os.listdir('./')"
      ],
      "execution_count": 0,
      "outputs": [
        {
          "output_type": "execute_result",
          "data": {
            "text/plain": [
              "['Untitled0.ipynb',\n",
              " 'ratings_1_train.csv',\n",
              " 'ratings_1_valid.csv',\n",
              " 'ratings_2_valid.csv',\n",
              " 'ratings_2_train.csv',\n",
              " 'ratings_3_train.csv',\n",
              " 'ratings_3_valid.csv',\n",
              " 'ratings_4_valid.csv',\n",
              " 'ratings_4_train.csv',\n",
              " '情感分析.ipynb',\n",
              " '情感分析1.ipynb',\n",
              " 'ratings_train.csv',\n",
              " 'ratings_valid.csv',\n",
              " 'qingganfenxi-model.pt',\n",
              " '情感分析2.ipynb']"
            ]
          },
          "metadata": {
            "tags": []
          },
          "execution_count": 6
        }
      ]
    },
    {
      "cell_type": "code",
      "metadata": {
        "id": "-ip_tXiu9brd",
        "colab_type": "code",
        "colab": {}
      },
      "source": [
        "import torch.nn as nn\n",
        "import torch\n",
        "\n",
        "class RNN(nn.Module):\n",
        "  \n",
        "  def __init__(self, vocab_size, embedding_dim, padding_idx, hidden_dim, num_layers, bidirectional, dropout, output_dim):\n",
        "    super(RNN,self).__init__()\n",
        "    self.embedding = nn.Embedding(vocab_size, embedding_dim, padding_idx=padding_idx)\n",
        "    self.rnn = nn.LSTM(embedding_dim, hidden_dim, num_layers=num_layers, bidirectional=bidirectional, dropout=dropout)\n",
        "    self.dropout = nn.Dropout(dropout)\n",
        "    self.decoder = nn.Linear(hidden_dim*2, output_dim)\n",
        "    self.hidden_dim = hidden_dim\n",
        "    self.num_layers = num_layers\n",
        "    self.output_dim = output_dim\n",
        "\n",
        "  def forward(self, text, hidden):\n",
        "    #embedded=[sentence_len,batch_size,embedding_dim]\n",
        "    embedded = self.dropout(self.embedding(text))\n",
        "    #output=[sentence_len,batch_size,hidden_dim*num_directional]\n",
        "    #hidden=[num_layers*num_directional,batch_size,hidden_dim] \n",
        "    #cell=[num_layers*num_directional,batch_size,hidden_dim] \n",
        "    output, (hidden, cell) = self.rnn(embedded, hidden)\n",
        "    decoded = self.decoder(self.dropout(torch.cat((hidden[-2,:,:],hidden[-1,:,:]),dim=1)))\n",
        "    return decoded, (hidden, cell)\n",
        "\n",
        "  def init_hidden(self, batch_size, requires_grad=True):\n",
        "    weight = next(self.parameters())\n",
        "    return (\n",
        "        weight.new_zeros((self.num_layers*2, batch_size, hidden_dim),requires_grad=requires_grad),\n",
        "        weight.new_zeros((self.num_layers*2, batch_size, hidden_dim),requires_grad=requires_grad)\n",
        "    )"
      ],
      "execution_count": 0,
      "outputs": []
    },
    {
      "cell_type": "code",
      "metadata": {
        "id": "WPUcYgTF9iTd",
        "colab_type": "code",
        "colab": {}
      },
      "source": [
        "vocab_size = 8167\n",
        "embedding_dim = 100 \n",
        "padding_idx = 1\n",
        "hidden_dim = 128\n",
        "num_layers = 2\n",
        "bidirectional = True\n",
        "dropout = 0.5\n",
        "output_dim = 2"
      ],
      "execution_count": 0,
      "outputs": []
    },
    {
      "cell_type": "code",
      "metadata": {
        "id": "ZXhTthN69jpV",
        "colab_type": "code",
        "colab": {}
      },
      "source": [
        "model = RNN(vocab_size, embedding_dim, padding_idx, hidden_dim, num_layers, bidirectional, dropout, output_dim)"
      ],
      "execution_count": 0,
      "outputs": []
    },
    {
      "cell_type": "code",
      "metadata": {
        "id": "JukC5HJPAlyi",
        "colab_type": "code",
        "colab": {}
      },
      "source": [
        "import numpy as np"
      ],
      "execution_count": 0,
      "outputs": []
    },
    {
      "cell_type": "code",
      "metadata": {
        "id": "eLrl_NWkBBj3",
        "colab_type": "code",
        "colab": {}
      },
      "source": [
        "stoi = np.load('stoi.npy',allow_pickle=True).item()"
      ],
      "execution_count": 0,
      "outputs": []
    },
    {
      "cell_type": "code",
      "metadata": {
        "id": "ah5nNLpUBju3",
        "colab_type": "code",
        "outputId": "ad5e5c26-cbb2-45ed-da6d-643e9ed5d46d",
        "colab": {
          "base_uri": "https://localhost:8080/",
          "height": 34
        }
      },
      "source": [
        "stoi['我']"
      ],
      "execution_count": 0,
      "outputs": [
        {
          "output_type": "execute_result",
          "data": {
            "text/plain": [
              "13"
            ]
          },
          "metadata": {
            "tags": []
          },
          "execution_count": 21
        }
      ]
    },
    {
      "cell_type": "code",
      "metadata": {
        "id": "4XNeX-WG8Oex",
        "colab_type": "code",
        "colab": {}
      },
      "source": [
        "import torch\n",
        "import torch.nn.functional as F\n",
        "def predict_sentiment(sentence):\n",
        "  device = torch.device('cuda')\n",
        "  # model = TheModelClass(*args, **kwargs)\n",
        "  model.load_state_dict(torch.load('./qingganfenxi-model.pt'))\n",
        "  model.to(device)\n",
        "  hidden = model.init_hidden(1)\n",
        "  tokenized = [tok for tok in sentence]\n",
        "  indexed = [stoi[t] for t in tokenized]\n",
        "  tensor = torch.LongTensor(indexed).to(device)\n",
        "  tensor = tensor.unsqueeze(1)\n",
        "  output, hidden = model(tensor, hidden)\n",
        "  output = output[0]\n",
        "  \n",
        "  prediction = F.softmax(output,dim=0)\n",
        "  return prediction\n",
        "    # return output"
      ],
      "execution_count": 0,
      "outputs": []
    },
    {
      "cell_type": "code",
      "metadata": {
        "id": "xdg88hLv8Tov",
        "colab_type": "code",
        "outputId": "af35f7c8-3ad9-4b00-fba0-2425ec26cd46",
        "colab": {
          "base_uri": "https://localhost:8080/",
          "height": 34
        }
      },
      "source": [
        "predict_sentiment('不错的一家餐厅，在香格里拉的一楼。\\r\\r\\n座位比较少，很安静。\\r\\r\\n食物也蛮新鲜的。\\r\\r\\n或许和就餐时的心情有关，东西也觉得很棒。\\r\\r\\n总的来说不错啦，有机会还会去的。\\r\\r\\n')"
      ],
      "execution_count": 0,
      "outputs": [
        {
          "output_type": "execute_result",
          "data": {
            "text/plain": [
              "tensor([0.9985, 0.0015], device='cuda:0', grad_fn=<SoftmaxBackward>)"
            ]
          },
          "metadata": {
            "tags": []
          },
          "execution_count": 23
        }
      ]
    },
    {
      "cell_type": "code",
      "metadata": {
        "id": "axXztwQ6-keY",
        "colab_type": "code",
        "outputId": "2c662e47-2e68-4fcf-a9d0-58da9ffc1037",
        "colab": {
          "base_uri": "https://localhost:8080/",
          "height": 34
        }
      },
      "source": [
        "predict_sentiment('接电话的小姐态度很不好，我问他又没有教小孩的初级班，没有你就说没有，她说4个人可以开班，你自己找人去。我说你办培训班，我去找人，我上哪儿去找人?实在是太搞笑了。不知道老板是怎么想的，找这样的人来接电话，一天不知道给他得罪多少客人，连接电话的基本规矩都不懂，好吧，本来还想带孩子去学滑冰的，现在肯定不会再在这里学了，而且我也会在我的圈子里说不好的了。\\r\\r\\n')"
      ],
      "execution_count": 0,
      "outputs": [
        {
          "output_type": "execute_result",
          "data": {
            "text/plain": [
              "tensor([0.0027, 0.9973], device='cuda:0', grad_fn=<SoftmaxBackward>)"
            ]
          },
          "metadata": {
            "tags": []
          },
          "execution_count": 24
        }
      ]
    },
    {
      "cell_type": "code",
      "metadata": {
        "id": "1mjJAsiiCoT7",
        "colab_type": "code",
        "colab": {}
      },
      "source": [
        ""
      ],
      "execution_count": 0,
      "outputs": []
    }
  ]
}